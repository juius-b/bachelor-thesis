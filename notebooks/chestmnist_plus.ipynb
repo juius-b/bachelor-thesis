{
 "cells": [
  {
   "cell_type": "code",
   "execution_count": 1,
   "metadata": {
    "ExecuteTime": {
     "end_time": "2023-08-12T16:31:07.358066124Z",
     "start_time": "2023-08-12T16:31:05.812933512Z"
    },
    "collapsed": true
   },
   "outputs": [],
   "source": [
    "import pandas as pd\n",
    "import numpy as np"
   ]
  },
  {
   "cell_type": "code",
   "execution_count": 2,
   "metadata": {
    "ExecuteTime": {
     "end_time": "2023-08-12T16:31:08.475863228Z",
     "start_time": "2023-08-12T16:31:08.475335160Z"
    },
    "collapsed": false
   },
   "outputs": [],
   "source": [
    "SIZE = 256\n",
    "SPLITS = [\"train\", \"val\", \"test\"]"
   ]
  },
  {
   "cell_type": "code",
   "execution_count": 3,
   "metadata": {
    "ExecuteTime": {
     "end_time": "2023-08-12T16:31:09.417657499Z",
     "start_time": "2023-08-12T16:31:09.268072986Z"
    },
    "collapsed": false
   },
   "outputs": [],
   "source": [
    "split_info = pd.read_csv(\"/mnt/jbrockma/bachelor-thesis/medmnist_data_split/chestmnist_split_info.csv\")"
   ]
  },
  {
   "cell_type": "code",
   "execution_count": 4,
   "metadata": {
    "ExecuteTime": {
     "end_time": "2023-08-12T16:31:10.158246591Z",
     "start_time": "2023-08-12T16:31:10.122057737Z"
    },
    "collapsed": false
   },
   "outputs": [
    {
     "data": {
      "text/html": [
       "<div>\n",
       "<style scoped>\n",
       "    .dataframe tbody tr th:only-of-type {\n",
       "        vertical-align: middle;\n",
       "    }\n",
       "\n",
       "    .dataframe tbody tr th {\n",
       "        vertical-align: top;\n",
       "    }\n",
       "\n",
       "    .dataframe thead th {\n",
       "        text-align: right;\n",
       "    }\n",
       "</style>\n",
       "<table border=\"1\" class=\"dataframe\">\n",
       "  <thead>\n",
       "    <tr style=\"text-align: right;\">\n",
       "      <th></th>\n",
       "      <th>split</th>\n",
       "      <th>index</th>\n",
       "      <th>image_id</th>\n",
       "    </tr>\n",
       "  </thead>\n",
       "  <tbody>\n",
       "    <tr>\n",
       "      <th>0</th>\n",
       "      <td>train</td>\n",
       "      <td>0</td>\n",
       "      <td>00000901_002</td>\n",
       "    </tr>\n",
       "    <tr>\n",
       "      <th>1</th>\n",
       "      <td>train</td>\n",
       "      <td>1</td>\n",
       "      <td>00018227_001</td>\n",
       "    </tr>\n",
       "    <tr>\n",
       "      <th>2</th>\n",
       "      <td>train</td>\n",
       "      <td>2</td>\n",
       "      <td>00027736_005</td>\n",
       "    </tr>\n",
       "    <tr>\n",
       "      <th>3</th>\n",
       "      <td>train</td>\n",
       "      <td>3</td>\n",
       "      <td>00018904_002</td>\n",
       "    </tr>\n",
       "    <tr>\n",
       "      <th>4</th>\n",
       "      <td>train</td>\n",
       "      <td>4</td>\n",
       "      <td>00005233_000</td>\n",
       "    </tr>\n",
       "  </tbody>\n",
       "</table>\n",
       "</div>"
      ],
      "text/plain": [
       "   split  index      image_id\n",
       "0  train      0  00000901_002\n",
       "1  train      1  00018227_001\n",
       "2  train      2  00027736_005\n",
       "3  train      3  00018904_002\n",
       "4  train      4  00005233_000"
      ]
     },
     "execution_count": 4,
     "metadata": {},
     "output_type": "execute_result"
    }
   ],
   "source": [
    "split_info.head()"
   ]
  },
  {
   "cell_type": "code",
   "execution_count": 5,
   "metadata": {
    "ExecuteTime": {
     "end_time": "2023-08-12T16:31:11.885455658Z",
     "start_time": "2023-08-12T16:31:11.878434398Z"
    },
    "collapsed": false
   },
   "outputs": [
    {
     "data": {
      "text/plain": [
       "{'train': 78468, 'val': 11219, 'test': 22433}"
      ]
     },
     "execution_count": 5,
     "metadata": {},
     "output_type": "execute_result"
    }
   ],
   "source": [
    "split_value_counts = split_info[\"split\"].value_counts()\n",
    "samples_of_split = {SPLIT: split_value_counts[SPLIT] for SPLIT in SPLITS}\n",
    "samples_of_split"
   ]
  },
  {
   "cell_type": "code",
   "execution_count": 6,
   "metadata": {
    "ExecuteTime": {
     "end_time": "2023-08-12T16:31:13.568739307Z",
     "start_time": "2023-08-12T16:31:13.542574533Z"
    },
    "collapsed": false
   },
   "outputs": [
    {
     "data": {
      "text/plain": [
       "[(78468, 256, 256), (11219, 256, 256), (22433, 256, 256)]"
      ]
     },
     "execution_count": 6,
     "metadata": {},
     "output_type": "execute_result"
    }
   ],
   "source": [
    "images_of_split = {SPLIT: np.empty((samples_of_split[SPLIT], SIZE, SIZE), dtype=np.uint8) for SPLIT in SPLITS}\n",
    "[images_of_split[SPLIT].shape for SPLIT in SPLITS]"
   ]
  },
  {
   "cell_type": "code",
   "execution_count": 7,
   "metadata": {
    "ExecuteTime": {
     "end_time": "2023-08-12T16:31:23.657450906Z",
     "start_time": "2023-08-12T16:31:23.519507738Z"
    },
    "collapsed": false
   },
   "outputs": [
    {
     "name": "stderr",
     "output_type": "stream",
     "text": [
      "/root/anaconda3/envs/bachelor-thesis/lib/python3.10/site-packages/tqdm/auto.py:21: TqdmWarning: IProgress not found. Please update jupyter and ipywidgets. See https://ipywidgets.readthedocs.io/en/stable/user_install.html\n",
      "  from .autonotebook import tqdm as notebook_tqdm\n"
     ]
    }
   ],
   "source": [
    "from tqdm.auto import tqdm\n",
    "import concurrent.futures\n",
    "from PIL import Image"
   ]
  },
  {
   "cell_type": "code",
   "execution_count": 21,
   "metadata": {
    "ExecuteTime": {
     "end_time": "2023-07-20T16:30:40.043282429Z",
     "start_time": "2023-07-20T16:28:46.538663723Z"
    },
    "collapsed": false
   },
   "outputs": [
    {
     "name": "stderr",
     "output_type": "stream",
     "text": [
      "  0%|                                                                           | 27/112120 [00:02<2:02:05, 15.30it/s]exception calling callback for <Future at 0x7fb15292d060 state=finished returned NoneType>\n",
      "Traceback (most recent call last):\n",
      "  File \"/root/anaconda3/envs/bachelor-thesis/lib/python3.10/concurrent/futures/_base.py\", line 342, in _invoke_callbacks\n",
      "    callback(self)\n",
      "  File \"/tmp/ipykernel_45821/2840424018.py\", line 18, in <lambda>\n",
      "    future.add_done_callback(lambda _: pbar.update())\n",
      "  File \"/root/anaconda3/envs/bachelor-thesis/lib/python3.10/site-packages/tqdm/std.py\", line 1239, in update\n",
      "    self.refresh(lock_args=self.lock_args)\n",
      "  File \"/root/anaconda3/envs/bachelor-thesis/lib/python3.10/site-packages/tqdm/std.py\", line 1344, in refresh\n",
      "    self.display()\n",
      "  File \"/root/anaconda3/envs/bachelor-thesis/lib/python3.10/site-packages/tqdm/std.py\", line 1492, in display\n",
      "    self.sp(self.__str__() if msg is None else msg)\n",
      "  File \"/root/anaconda3/envs/bachelor-thesis/lib/python3.10/site-packages/tqdm/std.py\", line 347, in print_status\n",
      "    fp_write('\\r' + s + (' ' * max(last_len[0] - len_s, 0)))\n",
      "  File \"/root/anaconda3/envs/bachelor-thesis/lib/python3.10/site-packages/tqdm/std.py\", line 340, in fp_write\n",
      "    fp.write(str(s))\n",
      "  File \"/root/anaconda3/envs/bachelor-thesis/lib/python3.10/site-packages/tqdm/utils.py\", line 127, in inner\n",
      "    return func(*args, **kwargs)\n",
      "  File \"/root/anaconda3/envs/bachelor-thesis/lib/python3.10/site-packages/ipykernel/iostream.py\", line 648, in write\n",
      "    self._schedule_flush()\n",
      "  File \"/root/anaconda3/envs/bachelor-thesis/lib/python3.10/site-packages/ipykernel/iostream.py\", line 545, in _schedule_flush\n",
      "    self.pub_thread.schedule(_schedule_in_thread)\n",
      "  File \"/root/anaconda3/envs/bachelor-thesis/lib/python3.10/site-packages/ipykernel/iostream.py\", line 251, in schedule\n",
      "    self._event_pipe.send(b\"\")\n",
      "  File \"/root/anaconda3/envs/bachelor-thesis/lib/python3.10/site-packages/zmq/sugar/socket.py\", line 696, in send\n",
      "    return super().send(data, flags=flags, copy=copy, track=track)\n",
      "  File \"zmq/backend/cython/socket.pyx\", line 742, in zmq.backend.cython.socket.Socket.send\n",
      "  File \"zmq/backend/cython/socket.pyx\", line 783, in zmq.backend.cython.socket.Socket.send\n",
      "  File \"zmq/backend/cython/socket.pyx\", line 138, in zmq.backend.cython.socket._check_closed\n",
      "zmq.error.ZMQError: Socket operation on non-socket\n",
      "--- Logging error ---\n",
      "Traceback (most recent call last):\n",
      "Exception in worker\n",
      "Traceback (most recent call last):\n",
      "  File \"/root/anaconda3/envs/bachelor-thesis/lib/python3.10/concurrent/futures/_base.py\", line 342, in _invoke_callbacks\n",
      "    callback(self)\n",
      "  File \"/tmp/ipykernel_45821/2840424018.py\", line 18, in <lambda>\n",
      "    future.add_done_callback(lambda _: pbar.update())\n",
      "  File \"/root/anaconda3/envs/bachelor-thesis/lib/python3.10/site-packages/tqdm/std.py\", line 1239, in update\n",
      "    self.refresh(lock_args=self.lock_args)\n",
      "  File \"/root/anaconda3/envs/bachelor-thesis/lib/python3.10/site-packages/tqdm/std.py\", line 1344, in refresh\n",
      "    self.display()\n",
      "  File \"/root/anaconda3/envs/bachelor-thesis/lib/python3.10/site-packages/tqdm/std.py\", line 1492, in display\n",
      "    self.sp(self.__str__() if msg is None else msg)\n",
      "  File \"/root/anaconda3/envs/bachelor-thesis/lib/python3.10/site-packages/tqdm/std.py\", line 347, in print_status\n",
      "    fp_write('\\r' + s + (' ' * max(last_len[0] - len_s, 0)))\n",
      "  File \"/root/anaconda3/envs/bachelor-thesis/lib/python3.10/site-packages/tqdm/std.py\", line 340, in fp_write\n",
      "    fp.write(str(s))\n",
      "  File \"/root/anaconda3/envs/bachelor-thesis/lib/python3.10/site-packages/tqdm/utils.py\", line 127, in inner\n",
      "    return func(*args, **kwargs)\n",
      "  File \"/root/anaconda3/envs/bachelor-thesis/lib/python3.10/site-packages/ipykernel/iostream.py\", line 648, in write\n",
      "    self._schedule_flush()\n",
      "  File \"/root/anaconda3/envs/bachelor-thesis/lib/python3.10/site-packages/ipykernel/iostream.py\", line 545, in _schedule_flush\n",
      "    self.pub_thread.schedule(_schedule_in_thread)\n",
      "  File \"/root/anaconda3/envs/bachelor-thesis/lib/python3.10/site-packages/ipykernel/iostream.py\", line 251, in schedule\n",
      "    self._event_pipe.send(b\"\")\n",
      "  File \"/root/anaconda3/envs/bachelor-thesis/lib/python3.10/site-packages/zmq/sugar/socket.py\", line 696, in send\n",
      "    return super().send(data, flags=flags, copy=copy, track=track)\n",
      "  File \"zmq/backend/cython/socket.pyx\", line 742, in zmq.backend.cython.socket.Socket.send\n",
      "  File \"zmq/backend/cython/socket.pyx\", line 783, in zmq.backend.cython.socket.Socket.send\n",
      "  File \"zmq/backend/cython/socket.pyx\", line 138, in zmq.backend.cython.socket._check_closed\n",
      "zmq.error.ZMQError: Socket operation on non-socket\n",
      "\n",
      "During handling of the above exception, another exception occurred:\n",
      "\n",
      "Traceback (most recent call last):\n",
      "  File \"/root/anaconda3/envs/bachelor-thesis/lib/python3.10/logging/__init__.py\", line 1103, in emit\n",
      "    stream.write(msg + self.terminator)\n",
      "  File \"/root/anaconda3/envs/bachelor-thesis/lib/python3.10/site-packages/ipykernel/iostream.py\", line 648, in write\n",
      "    self._schedule_flush()\n",
      "  File \"/root/anaconda3/envs/bachelor-thesis/lib/python3.10/site-packages/ipykernel/iostream.py\", line 545, in _schedule_flush\n",
      "    self.pub_thread.schedule(_schedule_in_thread)\n",
      "  File \"/root/anaconda3/envs/bachelor-thesis/lib/python3.10/site-packages/ipykernel/iostream.py\", line 251, in schedule\n",
      "    self._event_pipe.send(b\"\")\n",
      "  File \"/root/anaconda3/envs/bachelor-thesis/lib/python3.10/site-packages/zmq/sugar/socket.py\", line 696, in send\n",
      "    return super().send(data, flags=flags, copy=copy, track=track)\n",
      "  File \"zmq/backend/cython/socket.pyx\", line 742, in zmq.backend.cython.socket.Socket.send\n",
      "  File \"zmq/backend/cython/socket.pyx\", line 783, in zmq.backend.cython.socket.Socket.send\n",
      "  File \"zmq/backend/cython/socket.pyx\", line 138, in zmq.backend.cython.socket._check_closed\n",
      "zmq.error.ZMQError: Socket operation on non-socket\n",
      "\n",
      "During handling of the above exception, another exception occurred:\n",
      "\n",
      "Traceback (most recent call last):\n",
      "  File \"/root/anaconda3/envs/bachelor-thesis/lib/python3.10/concurrent/futures/thread.py\", line 83, in _worker\n",
      "    work_item.run()\n",
      "  File \"/root/anaconda3/envs/bachelor-thesis/lib/python3.10/concurrent/futures/thread.py\", line 64, in run\n",
      "    self.future.set_result(result)\n",
      "  File \"/root/anaconda3/envs/bachelor-thesis/lib/python3.10/concurrent/futures/_base.py\", line 552, in set_result\n",
      "    self._invoke_callbacks()\n",
      "  File \"/root/anaconda3/envs/bachelor-thesis/lib/python3.10/concurrent/futures/_base.py\", line 344, in _invoke_callbacks\n",
      "    LOGGER.exception('exception calling callback for %r', self)\n",
      "  File \"/root/anaconda3/envs/bachelor-thesis/lib/python3.10/logging/__init__.py\", line 1512, in exception\n",
      "    self.error(msg, *args, exc_info=exc_info, **kwargs)\n",
      "  File \"/root/anaconda3/envs/bachelor-thesis/lib/python3.10/logging/__init__.py\", line 1506, in error\n",
      "    self._log(ERROR, msg, args, **kwargs)\n",
      "  File \"/root/anaconda3/envs/bachelor-thesis/lib/python3.10/logging/__init__.py\", line 1624, in _log\n",
      "    self.handle(record)\n",
      "  File \"/root/anaconda3/envs/bachelor-thesis/lib/python3.10/logging/__init__.py\", line 1634, in handle\n",
      "    self.callHandlers(record)\n",
      "  File \"/root/anaconda3/envs/bachelor-thesis/lib/python3.10/logging/__init__.py\", line 1704, in callHandlers\n",
      "    lastResort.handle(record)\n",
      "  File \"/root/anaconda3/envs/bachelor-thesis/lib/python3.10/logging/__init__.py\", line 968, in handle\n",
      "    self.emit(record)\n",
      "  File \"/root/anaconda3/envs/bachelor-thesis/lib/python3.10/logging/__init__.py\", line 1108, in emit\n",
      "    self.handleError(record)\n",
      "  File \"/root/anaconda3/envs/bachelor-thesis/lib/python3.10/logging/__init__.py\", line 1022, in handleError\n",
      "    traceback.print_exception(t, v, tb, None, sys.stderr)\n",
      "  File \"/root/anaconda3/envs/bachelor-thesis/lib/python3.10/traceback.py\", line 121, in print_exception\n",
      "    print(line, file=file, end=\"\")\n",
      "  File \"/root/anaconda3/envs/bachelor-thesis/lib/python3.10/site-packages/ipykernel/iostream.py\", line 648, in write\n",
      "    self._schedule_flush()\n",
      "  File \"/root/anaconda3/envs/bachelor-thesis/lib/python3.10/site-packages/ipykernel/iostream.py\", line 545, in _schedule_flush\n",
      "    self.pub_thread.schedule(_schedule_in_thread)\n",
      "  File \"/root/anaconda3/envs/bachelor-thesis/lib/python3.10/site-packages/ipykernel/iostream.py\", line 251, in schedule\n",
      "    self._event_pipe.send(b\"\")\n",
      "  File \"/root/anaconda3/envs/bachelor-thesis/lib/python3.10/site-packages/zmq/sugar/socket.py\", line 696, in send\n",
      "    return super().send(data, flags=flags, copy=copy, track=track)\n",
      "  File \"zmq/backend/cython/socket.pyx\", line 742, in zmq.backend.cython.socket.Socket.send\n",
      "  File \"zmq/backend/cython/socket.pyx\", line 783, in zmq.backend.cython.socket.Socket.send\n",
      "  File \"zmq/backend/cython/socket.pyx\", line 138, in zmq.backend.cython.socket._check_closed\n",
      "zmq.error.ZMQError: Socket operation on non-socket\n",
      "--- Logging error ---\n",
      "Traceback (most recent call last):\n",
      "  File \"/root/anaconda3/envs/bachelor-thesis/lib/python3.10/concurrent/futures/_base.py\", line 342, in _invoke_callbacks\n",
      "    callback(self)\n",
      "  File \"/tmp/ipykernel_45821/2840424018.py\", line 18, in <lambda>\n",
      "    future.add_done_callback(lambda _: pbar.update())\n",
      "  File \"/root/anaconda3/envs/bachelor-thesis/lib/python3.10/site-packages/tqdm/std.py\", line 1239, in update\n",
      "    self.refresh(lock_args=self.lock_args)\n",
      "  File \"/root/anaconda3/envs/bachelor-thesis/lib/python3.10/site-packages/tqdm/std.py\", line 1344, in refresh\n",
      "    self.display()\n",
      "  File \"/root/anaconda3/envs/bachelor-thesis/lib/python3.10/site-packages/tqdm/std.py\", line 1492, in display\n",
      "    self.sp(self.__str__() if msg is None else msg)\n",
      "  File \"/root/anaconda3/envs/bachelor-thesis/lib/python3.10/site-packages/tqdm/std.py\", line 347, in print_status\n",
      "    fp_write('\\r' + s + (' ' * max(last_len[0] - len_s, 0)))\n",
      "  File \"/root/anaconda3/envs/bachelor-thesis/lib/python3.10/site-packages/tqdm/std.py\", line 340, in fp_write\n",
      "    fp.write(str(s))\n",
      "  File \"/root/anaconda3/envs/bachelor-thesis/lib/python3.10/site-packages/tqdm/utils.py\", line 127, in inner\n",
      "    return func(*args, **kwargs)\n",
      "  File \"/root/anaconda3/envs/bachelor-thesis/lib/python3.10/site-packages/ipykernel/iostream.py\", line 648, in write\n",
      "    self._schedule_flush()\n",
      "  File \"/root/anaconda3/envs/bachelor-thesis/lib/python3.10/site-packages/ipykernel/iostream.py\", line 545, in _schedule_flush\n",
      "    self.pub_thread.schedule(_schedule_in_thread)\n",
      "  File \"/root/anaconda3/envs/bachelor-thesis/lib/python3.10/site-packages/ipykernel/iostream.py\", line 251, in schedule\n",
      "    self._event_pipe.send(b\"\")\n",
      "  File \"/root/anaconda3/envs/bachelor-thesis/lib/python3.10/site-packages/zmq/sugar/socket.py\", line 696, in send\n",
      "    return super().send(data, flags=flags, copy=copy, track=track)\n",
      "  File \"zmq/backend/cython/socket.pyx\", line 742, in zmq.backend.cython.socket.Socket.send\n",
      "  File \"zmq/backend/cython/socket.pyx\", line 783, in zmq.backend.cython.socket.Socket.send\n",
      "  File \"zmq/backend/cython/socket.pyx\", line 138, in zmq.backend.cython.socket._check_closed\n",
      "zmq.error.ZMQError: Socket operation on non-socket\n",
      "\n",
      "During handling of the above exception, another exception occurred:\n",
      "\n",
      "Traceback (most recent call last):\n",
      "  File \"/root/anaconda3/envs/bachelor-thesis/lib/python3.10/logging/__init__.py\", line 1103, in emit\n",
      "    stream.write(msg + self.terminator)\n",
      "  File \"/root/anaconda3/envs/bachelor-thesis/lib/python3.10/site-packages/ipykernel/iostream.py\", line 648, in write\n",
      "    self._schedule_flush()\n",
      "  File \"/root/anaconda3/envs/bachelor-thesis/lib/python3.10/site-packages/ipykernel/iostream.py\", line 545, in _schedule_flush\n",
      "    self.pub_thread.schedule(_schedule_in_thread)\n",
      "  File \"/root/anaconda3/envs/bachelor-thesis/lib/python3.10/site-packages/ipykernel/iostream.py\", line 251, in schedule\n",
      "    self._event_pipe.send(b\"\")\n",
      "  File \"/root/anaconda3/envs/bachelor-thesis/lib/python3.10/site-packages/zmq/sugar/socket.py\", line 696, in send\n",
      "    return super().send(data, flags=flags, copy=copy, track=track)\n",
      "  File \"zmq/backend/cython/socket.pyx\", line 742, in zmq.backend.cython.socket.Socket.send\n",
      "  File \"zmq/backend/cython/socket.pyx\", line 783, in zmq.backend.cython.socket.Socket.send\n",
      "  File \"zmq/backend/cython/socket.pyx\", line 138, in zmq.backend.cython.socket._check_closed\n",
      "zmq.error.ZMQError: Socket operation on non-socket\n",
      "\n",
      "During handling of the above exception, another exception occurred:\n",
      "\n",
      "Traceback (most recent call last):\n",
      "  File \"/root/anaconda3/envs/bachelor-thesis/lib/python3.10/concurrent/futures/thread.py\", line 83, in _worker\n",
      "    work_item.run()\n",
      "  File \"/root/anaconda3/envs/bachelor-thesis/lib/python3.10/concurrent/futures/thread.py\", line 64, in run\n",
      "    self.future.set_result(result)\n",
      "  File \"/root/anaconda3/envs/bachelor-thesis/lib/python3.10/concurrent/futures/_base.py\", line 552, in set_result\n",
      "    self._invoke_callbacks()\n",
      "  File \"/root/anaconda3/envs/bachelor-thesis/lib/python3.10/concurrent/futures/_base.py\", line 344, in _invoke_callbacks\n",
      "    LOGGER.exception('exception calling callback for %r', self)\n",
      "  File \"/root/anaconda3/envs/bachelor-thesis/lib/python3.10/logging/__init__.py\", line 1512, in exception\n",
      "    self.error(msg, *args, exc_info=exc_info, **kwargs)\n",
      "  File \"/root/anaconda3/envs/bachelor-thesis/lib/python3.10/logging/__init__.py\", line 1506, in error\n",
      "    self._log(ERROR, msg, args, **kwargs)\n",
      "  File \"/root/anaconda3/envs/bachelor-thesis/lib/python3.10/logging/__init__.py\", line 1624, in _log\n",
      "    self.handle(record)\n",
      "  File \"/root/anaconda3/envs/bachelor-thesis/lib/python3.10/logging/__init__.py\", line 1634, in handle\n",
      "    self.callHandlers(record)\n",
      "  File \"/root/anaconda3/envs/bachelor-thesis/lib/python3.10/logging/__init__.py\", line 1704, in callHandlers\n",
      "    lastResort.handle(record)\n",
      "  File \"/root/anaconda3/envs/bachelor-thesis/lib/python3.10/logging/__init__.py\", line 968, in handle\n",
      "    self.emit(record)\n",
      "  File \"/root/anaconda3/envs/bachelor-thesis/lib/python3.10/logging/__init__.py\", line 1108, in emit\n",
      "    self.handleError(record)\n",
      "  File \"/root/anaconda3/envs/bachelor-thesis/lib/python3.10/logging/__init__.py\", line 1022, in handleError\n",
      "    traceback.print_exception(t, v, tb, None, sys.stderr)\n",
      "  File \"/root/anaconda3/envs/bachelor-thesis/lib/python3.10/traceback.py\", line 121, in print_exception\n",
      "    print(line, file=file, end=\"\")\n",
      "  File \"/root/anaconda3/envs/bachelor-thesis/lib/python3.10/site-packages/ipykernel/iostream.py\", line 648, in write\n",
      "    self._schedule_flush()\n",
      "  File \"/root/anaconda3/envs/bachelor-thesis/lib/python3.10/site-packages/ipykernel/iostream.py\", line 545, in _schedule_flush\n",
      "    self.pub_thread.schedule(_schedule_in_thread)\n",
      "  File \"/root/anaconda3/envs/bachelor-thesis/lib/python3.10/site-packages/ipykernel/iostream.py\", line 251, in schedule\n",
      "    self._event_pipe.send(b\"\")\n",
      "  File \"/root/anaconda3/envs/bachelor-thesis/lib/python3.10/site-packages/zmq/sugar/socket.py\", line 696, in send\n",
      "    return super().send(data, flags=flags, copy=copy, track=track)\n",
      "  File \"zmq/backend/cython/socket.pyx\", line 742, in zmq.backend.cython.socket.Socket.send\n",
      "  File \"zmq/backend/cython/socket.pyx\", line 783, in zmq.backend.cython.socket.Socket.send\n",
      "  File \"zmq/backend/cython/socket.pyx\", line 138, in zmq.backend.cython.socket._check_closed\n",
      "zmq.error.ZMQError: Socket operation on non-socket\n",
      "\n",
      "During handling of the above exception, another exception occurred:\n",
      "\n",
      "Traceback (most recent call last):\n",
      "  File \"/root/anaconda3/envs/bachelor-thesis/lib/python3.10/logging/__init__.py\", line 1103, in emit\n",
      "    stream.write(msg + self.terminator)\n",
      "  File \"/root/anaconda3/envs/bachelor-thesis/lib/python3.10/site-packages/ipykernel/iostream.py\", line 648, in write\n",
      "    self._schedule_flush()\n",
      "  File \"/root/anaconda3/envs/bachelor-thesis/lib/python3.10/site-packages/ipykernel/iostream.py\", line 545, in _schedule_flush\n",
      "    self.pub_thread.schedule(_schedule_in_thread)\n",
      "  File \"/root/anaconda3/envs/bachelor-thesis/lib/python3.10/site-packages/ipykernel/iostream.py\", line 251, in schedule\n",
      "    self._event_pipe.send(b\"\")\n",
      "  File \"/root/anaconda3/envs/bachelor-thesis/lib/python3.10/site-packages/zmq/sugar/socket.py\", line 696, in send\n",
      "    return super().send(data, flags=flags, copy=copy, track=track)\n",
      "  File \"zmq/backend/cython/socket.pyx\", line 742, in zmq.backend.cython.socket.Socket.send\n",
      "  File \"zmq/backend/cython/socket.pyx\", line 783, in zmq.backend.cython.socket.Socket.send\n",
      "  File \"zmq/backend/cython/socket.pyx\", line 138, in zmq.backend.cython.socket._check_closed\n",
      "zmq.error.ZMQError: Socket operation on non-socket\n",
      "Call stack:\n",
      "  File \"/root/anaconda3/envs/bachelor-thesis/lib/python3.10/threading.py\", line 973, in _bootstrap\n",
      "    self._bootstrap_inner()\n",
      "  File \"/root/anaconda3/envs/bachelor-thesis/lib/python3.10/threading.py\", line 1016, in _bootstrap_inner\n",
      "    self.run()\n",
      "  File \"/root/anaconda3/envs/bachelor-thesis/lib/python3.10/threading.py\", line 953, in run\n",
      "    self._target(*self._args, **self._kwargs)\n",
      "  File \"/root/anaconda3/envs/bachelor-thesis/lib/python3.10/concurrent/futures/thread.py\", line 109, in _worker\n",
      "    _base.LOGGER.critical('Exception in worker', exc_info=True)\n",
      "Message: 'Exception in worker'\n",
      "Arguments: ()\n"
     ]
    },
    {
     "ename": "KeyboardInterrupt",
     "evalue": "",
     "output_type": "error",
     "traceback": [
      "\u001b[0;31m---------------------------------------------------------------------------\u001b[0m",
      "\u001b[0;31mKeyboardInterrupt\u001b[0m                         Traceback (most recent call last)",
      "Cell \u001b[0;32mIn[21], line 23\u001b[0m\n\u001b[1;32m     21\u001b[0m         futures\u001b[38;5;241m.\u001b[39madd(future)\n\u001b[0;32m---> 23\u001b[0m     \u001b[43mconcurrent\u001b[49m\u001b[38;5;241;43m.\u001b[39;49m\u001b[43mfutures\u001b[49m\u001b[38;5;241;43m.\u001b[39;49m\u001b[43mwait\u001b[49m\u001b[43m(\u001b[49m\u001b[43mfutures\u001b[49m\u001b[43m)\u001b[49m\n\u001b[1;32m     25\u001b[0m exceptions \u001b[38;5;241m=\u001b[39m \u001b[38;5;28mset\u001b[39m()\n",
      "File \u001b[0;32m~/anaconda3/envs/bachelor-thesis/lib/python3.10/concurrent/futures/_base.py:307\u001b[0m, in \u001b[0;36mwait\u001b[0;34m(fs, timeout, return_when)\u001b[0m\n\u001b[1;32m    305\u001b[0m     waiter \u001b[38;5;241m=\u001b[39m _create_and_install_waiters(fs, return_when)\n\u001b[0;32m--> 307\u001b[0m \u001b[43mwaiter\u001b[49m\u001b[38;5;241;43m.\u001b[39;49m\u001b[43mevent\u001b[49m\u001b[38;5;241;43m.\u001b[39;49m\u001b[43mwait\u001b[49m\u001b[43m(\u001b[49m\u001b[43mtimeout\u001b[49m\u001b[43m)\u001b[49m\n\u001b[1;32m    308\u001b[0m \u001b[38;5;28;01mfor\u001b[39;00m f \u001b[38;5;129;01min\u001b[39;00m fs:\n",
      "File \u001b[0;32m~/anaconda3/envs/bachelor-thesis/lib/python3.10/threading.py:607\u001b[0m, in \u001b[0;36mEvent.wait\u001b[0;34m(self, timeout)\u001b[0m\n\u001b[1;32m    606\u001b[0m \u001b[38;5;28;01mif\u001b[39;00m \u001b[38;5;129;01mnot\u001b[39;00m signaled:\n\u001b[0;32m--> 607\u001b[0m     signaled \u001b[38;5;241m=\u001b[39m \u001b[38;5;28;43mself\u001b[39;49m\u001b[38;5;241;43m.\u001b[39;49m\u001b[43m_cond\u001b[49m\u001b[38;5;241;43m.\u001b[39;49m\u001b[43mwait\u001b[49m\u001b[43m(\u001b[49m\u001b[43mtimeout\u001b[49m\u001b[43m)\u001b[49m\n\u001b[1;32m    608\u001b[0m \u001b[38;5;28;01mreturn\u001b[39;00m signaled\n",
      "File \u001b[0;32m~/anaconda3/envs/bachelor-thesis/lib/python3.10/threading.py:320\u001b[0m, in \u001b[0;36mCondition.wait\u001b[0;34m(self, timeout)\u001b[0m\n\u001b[1;32m    319\u001b[0m \u001b[38;5;28;01mif\u001b[39;00m timeout \u001b[38;5;129;01mis\u001b[39;00m \u001b[38;5;28;01mNone\u001b[39;00m:\n\u001b[0;32m--> 320\u001b[0m     \u001b[43mwaiter\u001b[49m\u001b[38;5;241;43m.\u001b[39;49m\u001b[43macquire\u001b[49m\u001b[43m(\u001b[49m\u001b[43m)\u001b[49m\n\u001b[1;32m    321\u001b[0m     gotit \u001b[38;5;241m=\u001b[39m \u001b[38;5;28;01mTrue\u001b[39;00m\n",
      "\u001b[0;31mKeyboardInterrupt\u001b[0m: ",
      "\nDuring handling of the above exception, another exception occurred:\n",
      "\u001b[0;31mKeyboardInterrupt\u001b[0m                         Traceback (most recent call last)",
      "Cell \u001b[0;32mIn[21], line 2\u001b[0m\n\u001b[1;32m      1\u001b[0m \u001b[38;5;28;01mwith\u001b[39;00m tqdm(total\u001b[38;5;241m=\u001b[39m\u001b[38;5;28mlen\u001b[39m(split_info)) \u001b[38;5;28;01mas\u001b[39;00m pbar:\n\u001b[0;32m----> 2\u001b[0m     \u001b[38;5;28;01mwith\u001b[39;00m concurrent\u001b[38;5;241m.\u001b[39mfutures\u001b[38;5;241m.\u001b[39mThreadPoolExecutor() \u001b[38;5;28;01mas\u001b[39;00m executor:\n\u001b[1;32m      3\u001b[0m         futures \u001b[38;5;241m=\u001b[39m \u001b[38;5;28mset\u001b[39m()\n",
      "File \u001b[0;32m~/anaconda3/envs/bachelor-thesis/lib/python3.10/concurrent/futures/_base.py:649\u001b[0m, in \u001b[0;36mExecutor.__exit__\u001b[0;34m(self, exc_type, exc_val, exc_tb)\u001b[0m\n\u001b[1;32m    648\u001b[0m \u001b[38;5;28;01mdef\u001b[39;00m \u001b[38;5;21m__exit__\u001b[39m(\u001b[38;5;28mself\u001b[39m, exc_type, exc_val, exc_tb):\n\u001b[0;32m--> 649\u001b[0m     \u001b[38;5;28;43mself\u001b[39;49m\u001b[38;5;241;43m.\u001b[39;49m\u001b[43mshutdown\u001b[49m\u001b[43m(\u001b[49m\u001b[43mwait\u001b[49m\u001b[38;5;241;43m=\u001b[39;49m\u001b[38;5;28;43;01mTrue\u001b[39;49;00m\u001b[43m)\u001b[49m\n\u001b[1;32m    650\u001b[0m     \u001b[38;5;28;01mreturn\u001b[39;00m \u001b[38;5;28;01mFalse\u001b[39;00m\n",
      "File \u001b[0;32m~/anaconda3/envs/bachelor-thesis/lib/python3.10/concurrent/futures/thread.py:235\u001b[0m, in \u001b[0;36mThreadPoolExecutor.shutdown\u001b[0;34m(self, wait, cancel_futures)\u001b[0m\n\u001b[1;32m    234\u001b[0m \u001b[38;5;28;01mfor\u001b[39;00m t \u001b[38;5;129;01min\u001b[39;00m \u001b[38;5;28mself\u001b[39m\u001b[38;5;241m.\u001b[39m_threads:\n\u001b[0;32m--> 235\u001b[0m     \u001b[43mt\u001b[49m\u001b[38;5;241;43m.\u001b[39;49m\u001b[43mjoin\u001b[49m\u001b[43m(\u001b[49m\u001b[43m)\u001b[49m\n",
      "File \u001b[0;32m~/anaconda3/envs/bachelor-thesis/lib/python3.10/threading.py:1096\u001b[0m, in \u001b[0;36mThread.join\u001b[0;34m(self, timeout)\u001b[0m\n\u001b[1;32m   1095\u001b[0m \u001b[38;5;28;01mif\u001b[39;00m timeout \u001b[38;5;129;01mis\u001b[39;00m \u001b[38;5;28;01mNone\u001b[39;00m:\n\u001b[0;32m-> 1096\u001b[0m     \u001b[38;5;28;43mself\u001b[39;49m\u001b[38;5;241;43m.\u001b[39;49m\u001b[43m_wait_for_tstate_lock\u001b[49m\u001b[43m(\u001b[49m\u001b[43m)\u001b[49m\n\u001b[1;32m   1097\u001b[0m \u001b[38;5;28;01melse\u001b[39;00m:\n\u001b[1;32m   1098\u001b[0m     \u001b[38;5;66;03m# the behavior of a negative timeout isn't documented, but\u001b[39;00m\n\u001b[1;32m   1099\u001b[0m     \u001b[38;5;66;03m# historically .join(timeout=x) for x<0 has acted as if timeout=0\u001b[39;00m\n",
      "File \u001b[0;32m~/anaconda3/envs/bachelor-thesis/lib/python3.10/threading.py:1116\u001b[0m, in \u001b[0;36mThread._wait_for_tstate_lock\u001b[0;34m(self, block, timeout)\u001b[0m\n\u001b[1;32m   1115\u001b[0m \u001b[38;5;28;01mtry\u001b[39;00m:\n\u001b[0;32m-> 1116\u001b[0m     \u001b[38;5;28;01mif\u001b[39;00m \u001b[43mlock\u001b[49m\u001b[38;5;241;43m.\u001b[39;49m\u001b[43macquire\u001b[49m\u001b[43m(\u001b[49m\u001b[43mblock\u001b[49m\u001b[43m,\u001b[49m\u001b[43m \u001b[49m\u001b[43mtimeout\u001b[49m\u001b[43m)\u001b[49m:\n\u001b[1;32m   1117\u001b[0m         lock\u001b[38;5;241m.\u001b[39mrelease()\n",
      "\u001b[0;31mKeyboardInterrupt\u001b[0m: ",
      "\nDuring handling of the above exception, another exception occurred:\n",
      "\u001b[0;31mKeyboardInterrupt\u001b[0m                         Traceback (most recent call last)",
      "Cell \u001b[0;32mIn[21], line 1\u001b[0m\n\u001b[0;32m----> 1\u001b[0m \u001b[38;5;28;01mwith\u001b[39;00m tqdm(total\u001b[38;5;241m=\u001b[39m\u001b[38;5;28mlen\u001b[39m(split_info)) \u001b[38;5;28;01mas\u001b[39;00m pbar:\n\u001b[1;32m      2\u001b[0m     \u001b[38;5;28;01mwith\u001b[39;00m concurrent\u001b[38;5;241m.\u001b[39mfutures\u001b[38;5;241m.\u001b[39mThreadPoolExecutor() \u001b[38;5;28;01mas\u001b[39;00m executor:\n\u001b[1;32m      3\u001b[0m         futures \u001b[38;5;241m=\u001b[39m \u001b[38;5;28mset\u001b[39m()\n",
      "File \u001b[0;32m~/anaconda3/envs/bachelor-thesis/lib/python3.10/site-packages/tqdm/std.py:1137\u001b[0m, in \u001b[0;36mtqdm.__exit__\u001b[0;34m(self, exc_type, exc_value, traceback)\u001b[0m\n\u001b[1;32m   1135\u001b[0m \u001b[38;5;28;01mdef\u001b[39;00m \u001b[38;5;21m__exit__\u001b[39m(\u001b[38;5;28mself\u001b[39m, exc_type, exc_value, traceback):\n\u001b[1;32m   1136\u001b[0m     \u001b[38;5;28;01mtry\u001b[39;00m:\n\u001b[0;32m-> 1137\u001b[0m         \u001b[38;5;28;43mself\u001b[39;49m\u001b[38;5;241;43m.\u001b[39;49m\u001b[43mclose\u001b[49m\u001b[43m(\u001b[49m\u001b[43m)\u001b[49m\n\u001b[1;32m   1138\u001b[0m     \u001b[38;5;28;01mexcept\u001b[39;00m \u001b[38;5;167;01mAttributeError\u001b[39;00m:\n\u001b[1;32m   1139\u001b[0m         \u001b[38;5;66;03m# maybe eager thread cleanup upon external error\u001b[39;00m\n\u001b[1;32m   1140\u001b[0m         \u001b[38;5;28;01mif\u001b[39;00m (exc_type, exc_value, traceback) \u001b[38;5;241m==\u001b[39m (\u001b[38;5;28;01mNone\u001b[39;00m, \u001b[38;5;28;01mNone\u001b[39;00m, \u001b[38;5;28;01mNone\u001b[39;00m):\n",
      "File \u001b[0;32m~/anaconda3/envs/bachelor-thesis/lib/python3.10/site-packages/tqdm/std.py:1272\u001b[0m, in \u001b[0;36mtqdm.close\u001b[0;34m(self)\u001b[0m\n\u001b[1;32m   1270\u001b[0m \u001b[38;5;66;03m# decrement instance pos and remove from internal set\u001b[39;00m\n\u001b[1;32m   1271\u001b[0m pos \u001b[38;5;241m=\u001b[39m \u001b[38;5;28mabs\u001b[39m(\u001b[38;5;28mself\u001b[39m\u001b[38;5;241m.\u001b[39mpos)\n\u001b[0;32m-> 1272\u001b[0m \u001b[38;5;28;43mself\u001b[39;49m\u001b[38;5;241;43m.\u001b[39;49m\u001b[43m_decr_instances\u001b[49m\u001b[43m(\u001b[49m\u001b[38;5;28;43mself\u001b[39;49m\u001b[43m)\u001b[49m\n\u001b[1;32m   1274\u001b[0m \u001b[38;5;28;01mif\u001b[39;00m \u001b[38;5;28mself\u001b[39m\u001b[38;5;241m.\u001b[39mlast_print_t \u001b[38;5;241m<\u001b[39m \u001b[38;5;28mself\u001b[39m\u001b[38;5;241m.\u001b[39mstart_t \u001b[38;5;241m+\u001b[39m \u001b[38;5;28mself\u001b[39m\u001b[38;5;241m.\u001b[39mdelay:\n\u001b[1;32m   1275\u001b[0m     \u001b[38;5;66;03m# haven't ever displayed; nothing to clear\u001b[39;00m\n\u001b[1;32m   1276\u001b[0m     \u001b[38;5;28;01mreturn\u001b[39;00m\n",
      "File \u001b[0;32m~/anaconda3/envs/bachelor-thesis/lib/python3.10/site-packages/tqdm/std.py:584\u001b[0m, in \u001b[0;36mtqdm._decr_instances\u001b[0;34m(cls, instance)\u001b[0m\n\u001b[1;32m    574\u001b[0m \u001b[38;5;129m@classmethod\u001b[39m\n\u001b[1;32m    575\u001b[0m \u001b[38;5;28;01mdef\u001b[39;00m \u001b[38;5;21m_decr_instances\u001b[39m(\u001b[38;5;28mcls\u001b[39m, instance):\n\u001b[1;32m    576\u001b[0m \u001b[38;5;250m    \u001b[39m\u001b[38;5;124;03m\"\"\"\u001b[39;00m\n\u001b[1;32m    577\u001b[0m \u001b[38;5;124;03m    Remove from list and reposition another unfixed bar\u001b[39;00m\n\u001b[1;32m    578\u001b[0m \u001b[38;5;124;03m    to fill the new gap.\u001b[39;00m\n\u001b[0;32m   (...)\u001b[0m\n\u001b[1;32m    582\u001b[0m \u001b[38;5;124;03m    (tqdm<=4.44.1 moved ALL subsequent unfixed bars up.)\u001b[39;00m\n\u001b[1;32m    583\u001b[0m \u001b[38;5;124;03m    \"\"\"\u001b[39;00m\n\u001b[0;32m--> 584\u001b[0m     \u001b[38;5;28;01mwith\u001b[39;00m \u001b[38;5;28mcls\u001b[39m\u001b[38;5;241m.\u001b[39m_lock:\n\u001b[1;32m    585\u001b[0m         \u001b[38;5;28;01mtry\u001b[39;00m:\n\u001b[1;32m    586\u001b[0m             \u001b[38;5;28mcls\u001b[39m\u001b[38;5;241m.\u001b[39m_instances\u001b[38;5;241m.\u001b[39mremove(instance)\n",
      "File \u001b[0;32m~/anaconda3/envs/bachelor-thesis/lib/python3.10/site-packages/tqdm/std.py:110\u001b[0m, in \u001b[0;36mTqdmDefaultWriteLock.__enter__\u001b[0;34m(self)\u001b[0m\n\u001b[1;32m    109\u001b[0m \u001b[38;5;28;01mdef\u001b[39;00m \u001b[38;5;21m__enter__\u001b[39m(\u001b[38;5;28mself\u001b[39m):\n\u001b[0;32m--> 110\u001b[0m     \u001b[38;5;28;43mself\u001b[39;49m\u001b[38;5;241;43m.\u001b[39;49m\u001b[43macquire\u001b[49m\u001b[43m(\u001b[49m\u001b[43m)\u001b[49m\n",
      "File \u001b[0;32m~/anaconda3/envs/bachelor-thesis/lib/python3.10/site-packages/tqdm/std.py:103\u001b[0m, in \u001b[0;36mTqdmDefaultWriteLock.acquire\u001b[0;34m(self, *a, **k)\u001b[0m\n\u001b[1;32m    101\u001b[0m \u001b[38;5;28;01mdef\u001b[39;00m \u001b[38;5;21macquire\u001b[39m(\u001b[38;5;28mself\u001b[39m, \u001b[38;5;241m*\u001b[39ma, \u001b[38;5;241m*\u001b[39m\u001b[38;5;241m*\u001b[39mk):\n\u001b[1;32m    102\u001b[0m     \u001b[38;5;28;01mfor\u001b[39;00m lock \u001b[38;5;129;01min\u001b[39;00m \u001b[38;5;28mself\u001b[39m\u001b[38;5;241m.\u001b[39mlocks:\n\u001b[0;32m--> 103\u001b[0m         \u001b[43mlock\u001b[49m\u001b[38;5;241;43m.\u001b[39;49m\u001b[43macquire\u001b[49m\u001b[43m(\u001b[49m\u001b[38;5;241;43m*\u001b[39;49m\u001b[43ma\u001b[49m\u001b[43m,\u001b[49m\u001b[43m \u001b[49m\u001b[38;5;241;43m*\u001b[39;49m\u001b[38;5;241;43m*\u001b[39;49m\u001b[43mk\u001b[49m\u001b[43m)\u001b[49m\n",
      "\u001b[0;31mKeyboardInterrupt\u001b[0m: "
     ]
    }
   ],
   "source": [
    "with tqdm(total=len(split_info)) as pbar:\n",
    "    with concurrent.futures.ThreadPoolExecutor() as executor:\n",
    "        futures = set()\n",
    "\n",
    "        def preprocess(_info):\n",
    "            try:\n",
    "                _, _split, _index, _image_id = _info\n",
    "\n",
    "                with Image.open(f\"/mnt/jbrockma/CXR8/images/images/{_image_id}.png\") as im:\n",
    "                    im = im.convert(\"L\") if im.mode != \"L\" else im\n",
    "                    im = im.resize((SIZE, SIZE), Image.BICUBIC)\n",
    "\n",
    "                    images_of_split[_split][_index] = np.asarray(im)\n",
    "            except Exception as e:\n",
    "                print(e)\n",
    "                raise e\n",
    "\n",
    "        for info in split_info.itertuples():\n",
    "            future = executor.submit(preprocess, info)\n",
    "            future.add_done_callback(lambda _: pbar.update())\n",
    "            futures.add(future)\n",
    "\n",
    "        concurrent.futures.wait(futures)\n",
    "\n",
    "    exceptions = set()\n",
    "\n",
    "    for future in futures:\n",
    "        exception = future.exception()\n",
    "        if exception:\n",
    "            exceptions.add(exception)\n",
    "\n",
    "    for exception in exceptions:\n",
    "        print(exception)\n"
   ]
  },
  {
   "cell_type": "code",
   "execution_count": 15,
   "metadata": {
    "ExecuteTime": {
     "end_time": "2023-07-20T16:05:40.010287822Z",
     "start_time": "2023-07-20T16:05:39.985748722Z"
    },
    "collapsed": false
   },
   "outputs": [
    {
     "data": {
      "text/plain": [
       "[(22433, 14), (78468, 14), (11219, 14)]"
      ]
     },
     "execution_count": 15,
     "metadata": {},
     "output_type": "execute_result"
    }
   ],
   "source": [
    "chest_mnist = np.load(\"/root/.medmnist/chestmnist.npz\")\n",
    "labels_of_split = {SPLIT: chest_mnist[f\"{SPLIT}_labels\"] for SPLIT in SPLITS}\n",
    "[labels_of_split[SPLIT].shape for SPLIT in SPLITS]"
   ]
  },
  {
   "cell_type": "code",
   "execution_count": 20,
   "metadata": {
    "ExecuteTime": {
     "end_time": "2023-07-20T16:25:00.483392101Z",
     "start_time": "2023-07-20T16:25:00.451086571Z"
    },
    "collapsed": false
   },
   "outputs": [
    {
     "data": {
      "text/plain": [
       "dict_keys(['train_images', 'val_images', 'test_images', 'train_labels', 'val_labels', 'test_labels'])"
      ]
     },
     "execution_count": 20,
     "metadata": {},
     "output_type": "execute_result"
    }
   ],
   "source": [
    "name_to_array = {}\n",
    "for container_name, container_of_split in [(\"images\", images_of_split), (\"labels\", labels_of_split)]:\n",
    "    for SPLIT in SPLITS:\n",
    "        name_to_array[f\"{SPLIT}_{container_name}\"] = container_of_split[SPLIT]\n",
    "name_to_array.keys()"
   ]
  },
  {
   "cell_type": "code",
   "execution_count": null,
   "metadata": {
    "collapsed": false
   },
   "outputs": [],
   "source": []
  }
 ],
 "metadata": {
  "kernelspec": {
   "display_name": "Python 3",
   "language": "python",
   "name": "python3"
  },
  "language_info": {
   "codemirror_mode": {
    "name": "ipython",
    "version": 2
   },
   "file_extension": ".py",
   "mimetype": "text/x-python",
   "name": "python",
   "nbconvert_exporter": "python",
   "pygments_lexer": "ipython2",
   "version": "2.7.6"
  }
 },
 "nbformat": 4,
 "nbformat_minor": 0
}
