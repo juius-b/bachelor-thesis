{
 "cells": [
  {
   "cell_type": "code",
   "execution_count": 45,
   "metadata": {
    "ExecuteTime": {
     "end_time": "2023-06-19T08:06:41.470063443Z",
     "start_time": "2023-06-19T08:06:41.424869715Z"
    },
    "collapsed": true
   },
   "outputs": [],
   "source": [
    "from pathlib import Path\n",
    "\n",
    "root = Path(\"/mnt/jbrockma\")\n",
    "data_root = root / \"bachelor-thesis-data\"\n",
    "images_root = root / \"bachelor-thesis-images\""
   ]
  },
  {
   "cell_type": "code",
   "execution_count": 46,
   "metadata": {
    "ExecuteTime": {
     "end_time": "2023-06-19T08:06:41.471572675Z",
     "start_time": "2023-06-19T08:06:41.470445532Z"
    },
    "collapsed": false
   },
   "outputs": [
    {
     "data": {
      "text/plain": [
       "dtype('uint8')"
      ]
     },
     "execution_count": 46,
     "metadata": {},
     "output_type": "execute_result"
    }
   ],
   "source": [
    "from PIL import Image\n",
    "import numpy as np\n",
    "with Image.open(images_root / \"chest\" / \"00000001_000.png\") as im:\n",
    "    a = np.asarray(im)\n",
    "\n",
    "a.dtype"
   ]
  },
  {
   "cell_type": "code",
   "execution_count": 47,
   "metadata": {
    "ExecuteTime": {
     "end_time": "2023-06-19T08:06:41.471862461Z",
     "start_time": "2023-06-19T08:06:41.470724728Z"
    },
    "collapsed": false
   },
   "outputs": [
    {
     "data": {
      "text/plain": [
       "dtype('uint8')"
      ]
     },
     "execution_count": 47,
     "metadata": {},
     "output_type": "execute_result"
    }
   ],
   "source": [
    "with Image.open(images_root / \"chest\" / \"00000002_000.png\") as im:\n",
    "    b = np.asarray(im)\n",
    "\n",
    "b.dtype"
   ]
  },
  {
   "cell_type": "code",
   "execution_count": 48,
   "metadata": {
    "ExecuteTime": {
     "end_time": "2023-06-19T08:06:41.526380230Z",
     "start_time": "2023-06-19T08:06:41.472137890Z"
    },
    "collapsed": false
   },
   "outputs": [],
   "source": [
    "x = np.array([1, 2, 3])\n",
    "y = np.array([4, 5, 6])\n",
    "z = np.stack((x,y))"
   ]
  },
  {
   "cell_type": "code",
   "execution_count": 49,
   "metadata": {
    "ExecuteTime": {
     "end_time": "2023-06-19T08:06:41.530675430Z",
     "start_time": "2023-06-19T08:06:41.515277930Z"
    },
    "collapsed": false
   },
   "outputs": [
    {
     "data": {
      "text/plain": [
       "array([[[1, 2, 3],\n",
       "        [4, 5, 6]],\n",
       "\n",
       "       [[1, 2, 3],\n",
       "        [4, 5, 6]],\n",
       "\n",
       "       [[1, 2, 3],\n",
       "        [4, 5, 6]]])"
      ]
     },
     "execution_count": 49,
     "metadata": {},
     "output_type": "execute_result"
    }
   ],
   "source": [
    "np.stack((z, z, z))"
   ]
  },
  {
   "cell_type": "code",
   "execution_count": 50,
   "metadata": {
    "ExecuteTime": {
     "end_time": "2023-06-19T08:06:41.531121430Z",
     "start_time": "2023-06-19T08:06:41.515665640Z"
    },
    "collapsed": false
   },
   "outputs": [
    {
     "data": {
      "text/plain": [
       "(2, 256, 256)"
      ]
     },
     "execution_count": 50,
     "metadata": {},
     "output_type": "execute_result"
    }
   ],
   "source": [
    "c = np.stack((a, b))\n",
    "c.shape"
   ]
  },
  {
   "cell_type": "code",
   "execution_count": 51,
   "metadata": {
    "ExecuteTime": {
     "end_time": "2023-06-19T08:06:41.728822801Z",
     "start_time": "2023-06-19T08:06:41.515869755Z"
    },
    "collapsed": false
   },
   "outputs": [
    {
     "data": {
      "text/html": [
       "<div>\n",
       "<style scoped>\n",
       "    .dataframe tbody tr th:only-of-type {\n",
       "        vertical-align: middle;\n",
       "    }\n",
       "\n",
       "    .dataframe tbody tr th {\n",
       "        vertical-align: top;\n",
       "    }\n",
       "\n",
       "    .dataframe thead th {\n",
       "        text-align: right;\n",
       "    }\n",
       "</style>\n",
       "<table border=\"1\" class=\"dataframe\">\n",
       "  <thead>\n",
       "    <tr style=\"text-align: right;\">\n",
       "      <th></th>\n",
       "      <th>atelectasis</th>\n",
       "      <th>cardiomegaly</th>\n",
       "      <th>consolidation</th>\n",
       "      <th>edema</th>\n",
       "      <th>effusion</th>\n",
       "      <th>emphysema</th>\n",
       "      <th>fibrosis</th>\n",
       "      <th>hernia</th>\n",
       "      <th>infiltration</th>\n",
       "      <th>mass</th>\n",
       "      <th>nodule</th>\n",
       "      <th>pleural_thickening</th>\n",
       "      <th>pneumonia</th>\n",
       "      <th>pneumothorax</th>\n",
       "    </tr>\n",
       "    <tr>\n",
       "      <th>file_name</th>\n",
       "      <th></th>\n",
       "      <th></th>\n",
       "      <th></th>\n",
       "      <th></th>\n",
       "      <th></th>\n",
       "      <th></th>\n",
       "      <th></th>\n",
       "      <th></th>\n",
       "      <th></th>\n",
       "      <th></th>\n",
       "      <th></th>\n",
       "      <th></th>\n",
       "      <th></th>\n",
       "      <th></th>\n",
       "    </tr>\n",
       "  </thead>\n",
       "  <tbody>\n",
       "    <tr>\n",
       "      <th>00000001_000.png</th>\n",
       "      <td>0</td>\n",
       "      <td>1</td>\n",
       "      <td>0</td>\n",
       "      <td>0</td>\n",
       "      <td>0</td>\n",
       "      <td>0</td>\n",
       "      <td>0</td>\n",
       "      <td>0</td>\n",
       "      <td>0</td>\n",
       "      <td>0</td>\n",
       "      <td>0</td>\n",
       "      <td>0</td>\n",
       "      <td>0</td>\n",
       "      <td>0</td>\n",
       "    </tr>\n",
       "    <tr>\n",
       "      <th>00000001_001.png</th>\n",
       "      <td>0</td>\n",
       "      <td>1</td>\n",
       "      <td>0</td>\n",
       "      <td>0</td>\n",
       "      <td>0</td>\n",
       "      <td>1</td>\n",
       "      <td>0</td>\n",
       "      <td>0</td>\n",
       "      <td>0</td>\n",
       "      <td>0</td>\n",
       "      <td>0</td>\n",
       "      <td>0</td>\n",
       "      <td>0</td>\n",
       "      <td>0</td>\n",
       "    </tr>\n",
       "    <tr>\n",
       "      <th>00000001_002.png</th>\n",
       "      <td>0</td>\n",
       "      <td>1</td>\n",
       "      <td>0</td>\n",
       "      <td>0</td>\n",
       "      <td>1</td>\n",
       "      <td>0</td>\n",
       "      <td>0</td>\n",
       "      <td>0</td>\n",
       "      <td>0</td>\n",
       "      <td>0</td>\n",
       "      <td>0</td>\n",
       "      <td>0</td>\n",
       "      <td>0</td>\n",
       "      <td>0</td>\n",
       "    </tr>\n",
       "    <tr>\n",
       "      <th>00000002_000.png</th>\n",
       "      <td>0</td>\n",
       "      <td>0</td>\n",
       "      <td>0</td>\n",
       "      <td>0</td>\n",
       "      <td>0</td>\n",
       "      <td>0</td>\n",
       "      <td>0</td>\n",
       "      <td>0</td>\n",
       "      <td>0</td>\n",
       "      <td>0</td>\n",
       "      <td>0</td>\n",
       "      <td>0</td>\n",
       "      <td>0</td>\n",
       "      <td>0</td>\n",
       "    </tr>\n",
       "    <tr>\n",
       "      <th>00000003_001.png</th>\n",
       "      <td>0</td>\n",
       "      <td>0</td>\n",
       "      <td>0</td>\n",
       "      <td>0</td>\n",
       "      <td>0</td>\n",
       "      <td>0</td>\n",
       "      <td>0</td>\n",
       "      <td>1</td>\n",
       "      <td>0</td>\n",
       "      <td>0</td>\n",
       "      <td>0</td>\n",
       "      <td>0</td>\n",
       "      <td>0</td>\n",
       "      <td>0</td>\n",
       "    </tr>\n",
       "  </tbody>\n",
       "</table>\n",
       "</div>"
      ],
      "text/plain": [
       "                  atelectasis  cardiomegaly  consolidation  edema  effusion  \\\n",
       "file_name                                                                     \n",
       "00000001_000.png            0             1              0      0         0   \n",
       "00000001_001.png            0             1              0      0         0   \n",
       "00000001_002.png            0             1              0      0         1   \n",
       "00000002_000.png            0             0              0      0         0   \n",
       "00000003_001.png            0             0              0      0         0   \n",
       "\n",
       "                  emphysema  fibrosis  hernia  infiltration  mass  nodule  \\\n",
       "file_name                                                                   \n",
       "00000001_000.png          0         0       0             0     0       0   \n",
       "00000001_001.png          1         0       0             0     0       0   \n",
       "00000001_002.png          0         0       0             0     0       0   \n",
       "00000002_000.png          0         0       0             0     0       0   \n",
       "00000003_001.png          0         0       1             0     0       0   \n",
       "\n",
       "                  pleural_thickening  pneumonia  pneumothorax  \n",
       "file_name                                                      \n",
       "00000001_000.png                   0          0             0  \n",
       "00000001_001.png                   0          0             0  \n",
       "00000001_002.png                   0          0             0  \n",
       "00000002_000.png                   0          0             0  \n",
       "00000003_001.png                   0          0             0  "
      ]
     },
     "execution_count": 51,
     "metadata": {},
     "output_type": "execute_result"
    }
   ],
   "source": [
    "import pandas as pd\n",
    "\n",
    "df = pd.read_csv(root / \"bachelor-thesis-data\" / \"chest-image-data.csv\", index_col=\"file_name\")\n",
    "df.head()"
   ]
  },
  {
   "cell_type": "code",
   "execution_count": 52,
   "metadata": {
    "ExecuteTime": {
     "end_time": "2023-06-19T08:06:41.748348015Z",
     "start_time": "2023-06-19T08:06:41.728554807Z"
    },
    "collapsed": false
   },
   "outputs": [
    {
     "name": "stdout",
     "output_type": "stream",
     "text": [
      "atelectasis           0\n",
      "cardiomegaly          1\n",
      "consolidation         0\n",
      "edema                 0\n",
      "effusion              0\n",
      "emphysema             0\n",
      "fibrosis              0\n",
      "hernia                0\n",
      "infiltration          0\n",
      "mass                  0\n",
      "nodule                0\n",
      "pleural_thickening    0\n",
      "pneumonia             0\n",
      "pneumothorax          0\n",
      "Name: 00000001_000.png, dtype: int64\n"
     ]
    }
   ],
   "source": [
    "row = df.loc[\"00000001_000.png\"]\n",
    "print(row)"
   ]
  },
  {
   "cell_type": "code",
   "execution_count": 53,
   "metadata": {
    "ExecuteTime": {
     "end_time": "2023-06-19T08:06:41.875583972Z",
     "start_time": "2023-06-19T08:06:41.749144345Z"
    },
    "collapsed": false
   },
   "outputs": [
    {
     "data": {
      "text/plain": [
       "array([0, 0, 0, 0, 0, 0, 0, 0, 0, 0, 0, 0, 0, 0], dtype=uint8)"
      ]
     },
     "execution_count": 53,
     "metadata": {},
     "output_type": "execute_result"
    }
   ],
   "source": [
    "mnist = np.load(\"/root/.medmnist/chestmnist.npz\")\n",
    "mnist[\"test_labels\"][0]"
   ]
  },
  {
   "cell_type": "code",
   "execution_count": 54,
   "metadata": {
    "ExecuteTime": {
     "end_time": "2023-06-19T08:06:41.876249997Z",
     "start_time": "2023-06-19T08:06:41.760151376Z"
    },
    "collapsed": false
   },
   "outputs": [
    {
     "data": {
      "text/plain": [
       "array([0, 1, 0, 0, 0, 0, 0, 0, 0, 0, 0, 0, 0, 0])"
      ]
     },
     "execution_count": 54,
     "metadata": {},
     "output_type": "execute_result"
    }
   ],
   "source": [
    "row.to_numpy()"
   ]
  },
  {
   "cell_type": "code",
   "execution_count": 55,
   "metadata": {
    "ExecuteTime": {
     "end_time": "2023-06-19T08:06:41.876573746Z",
     "start_time": "2023-06-19T08:06:41.808233754Z"
    },
    "collapsed": false
   },
   "outputs": [
    {
     "data": {
      "text/plain": [
       "array([[0, 1, 0, 0, 0, 0, 0, 0, 0, 0, 0, 0, 0, 0],\n",
       "       [0, 1, 0, 0, 0, 0, 0, 0, 0, 0, 0, 0, 0, 0]])"
      ]
     },
     "execution_count": 55,
     "metadata": {},
     "output_type": "execute_result"
    }
   ],
   "source": [
    "np.stack((row.to_numpy(), row.to_numpy()))"
   ]
  },
  {
   "cell_type": "code",
   "execution_count": 56,
   "metadata": {
    "ExecuteTime": {
     "end_time": "2023-06-19T08:06:41.959842215Z",
     "start_time": "2023-06-19T08:06:41.808818335Z"
    },
    "collapsed": false
   },
   "outputs": [
    {
     "data": {
      "application/vnd.jupyter.widget-view+json": {
       "model_id": "0b9f4c63b9c54b61a0d638fffb8e70a1",
       "version_major": 2,
       "version_minor": 0
      },
      "text/plain": [
       "  0%|          | 0/25596 [00:00<?, ?it/s]"
      ]
     },
     "metadata": {},
     "output_type": "display_data"
    },
    {
     "name": "stdout",
     "output_type": "stream",
     "text": [
      "hi\n"
     ]
    }
   ],
   "source": [
    "from tqdm.notebook import tqdm\n",
    "with open(root / \"CXR8\" / \"test_list.txt\") as f:\n",
    "    line_sum = sum(1 for line in f)\n",
    "    f.seek(0)\n",
    "    for line in tqdm(f, total=line_sum):\n",
    "        if line.strip() not in df.index:\n",
    "            print(line.strip())\n",
    "            break\n",
    "\n",
    "print(\"hi\")"
   ]
  },
  {
   "cell_type": "code",
   "execution_count": 67,
   "metadata": {
    "ExecuteTime": {
     "end_time": "2023-06-19T08:48:44.963463879Z",
     "start_time": "2023-06-19T08:47:23.132161946Z"
    },
    "collapsed": false
   },
   "outputs": [
    {
     "data": {
      "application/vnd.jupyter.widget-view+json": {
       "model_id": "52056da643294546b20b60969f38e58d",
       "version_major": 2,
       "version_minor": 0
      },
      "text/plain": [
       "  0%|          | 0/25596 [00:00<?, ?it/s]"
      ]
     },
     "metadata": {},
     "output_type": "display_data"
    },
    {
     "name": "stdout",
     "output_type": "stream",
     "text": [
      "[[[ 53  29  17 ...  13  14  11]\n",
      "  [ 52  28  17 ...  13  14  11]\n",
      "  [ 51  28  16 ...  13  14  12]\n",
      "  ...\n",
      "  [ 11  10   9 ... 102 173 198]\n",
      "  [ 25  25  23 ... 104 177 201]\n",
      "  [ 48  46  44 ... 107 181 203]]\n",
      "\n",
      " [[ 38  31  24 ... 126 124 116]\n",
      "  [ 40  33  26 ... 117 113 105]\n",
      "  [ 37  30  23 ...  90  88  83]\n",
      "  ...\n",
      "  [104 111 107 ...  89 143 173]\n",
      "  [162 173 170 ...  92 144 172]\n",
      "  [166 178 176 ...  86 133 158]]\n",
      "\n",
      " [[  0   0   0 ...   0   0   0]\n",
      "  [  0   0   0 ...   0   0   0]\n",
      "  [  0   0   0 ...   0   0   0]\n",
      "  ...\n",
      "  [  0   0   0 ...   0   0   0]\n",
      "  [  0   0   0 ...   0   0   0]\n",
      "  [  0   0   0 ...   0   0   0]]\n",
      "\n",
      " [[  0  25  40 ...  13  33  78]\n",
      "  [  0  26  38 ...  10  26  64]\n",
      "  [  0  30  37 ...  10  25  62]\n",
      "  ...\n",
      "  [144 118  90 ... 255 145   0]\n",
      "  [162 137 107 ... 255 126   0]\n",
      "  [185 159 132 ... 255 120   0]]\n",
      "\n",
      " [[  0   0   0 ...   0   0   0]\n",
      "  [ 57  57  51 ...  57  57  53]\n",
      "  [ 59  59  55 ...  62  62  57]\n",
      "  ...\n",
      "  [ 22  21  20 ...  41  40  33]\n",
      "  [ 23  22  21 ...  44  41  36]\n",
      "  [ 21  22  20 ...  41  39  34]]]\n",
      "[[0 0 0 0 0 0 0 1 0 0 0 0 0 0]\n",
      " [0 0 0 0 0 0 0 1 0 0 0 0 0 0]\n",
      " [0 0 0 0 0 0 0 1 0 0 0 0 0 0]\n",
      " [0 0 0 0 0 0 0 1 1 0 0 0 0 0]\n",
      " [0 0 0 0 0 0 0 1 0 0 0 0 0 0]]\n"
     ]
    }
   ],
   "source": [
    "import concurrent.futures\n",
    "\n",
    "\n",
    "with open(root / \"CXR8\" / \"test_list.txt\") as f:\n",
    "    lines = f.readlines()\n",
    "\n",
    "lines_len = len(lines)\n",
    "\n",
    "WIDTH = HEIGHT = 256\n",
    "\n",
    "test_images = np.empty((lines_len, HEIGHT, WIDTH), dtype=np.uint8)\n",
    "test_labels = np.empty((lines_len, len(df.columns)), dtype=np.uint8)\n",
    "\n",
    "chest_images_root = images_root / \"chest\"\n",
    "\n",
    "def write_to_array(file_name, i):\n",
    "    try:\n",
    "        with Image.open(chest_images_root / file_name) as im:\n",
    "            arr = np.asarray(im)\n",
    "            test_images[i] = arr\n",
    "            test_labels[i] = df.loc[file_name]\n",
    "    except Exception as e:\n",
    "        print(e)\n",
    "\n",
    "with tqdm(total=lines_len) as pbar:\n",
    "    with concurrent.futures.ThreadPoolExecutor() as executor:\n",
    "        futures = []\n",
    "\n",
    "        def update_progress(_):\n",
    "            pbar.update()\n",
    "\n",
    "        for i, line in enumerate(lines):\n",
    "            file_name = line.strip()\n",
    "            future = executor.submit(grayscale_and_write_to_array, file_name, i)\n",
    "            future.add_done_callback(update_progress)\n",
    "            futures.append(future)\n",
    "\n",
    "        concurrent.futures.wait(futures)\n",
    "\n",
    "print(test_images[:5])\n",
    "print(test_labels[:5])"
   ]
  },
  {
   "cell_type": "code",
   "execution_count": null,
   "metadata": {
    "collapsed": false
   },
   "outputs": [],
   "source": []
  }
 ],
 "metadata": {
  "kernelspec": {
   "display_name": "Python 3",
   "language": "python",
   "name": "python3"
  },
  "language_info": {
   "codemirror_mode": {
    "name": "ipython",
    "version": 2
   },
   "file_extension": ".py",
   "mimetype": "text/x-python",
   "name": "python",
   "nbconvert_exporter": "python",
   "pygments_lexer": "ipython2",
   "version": "2.7.6"
  }
 },
 "nbformat": 4,
 "nbformat_minor": 0
}
